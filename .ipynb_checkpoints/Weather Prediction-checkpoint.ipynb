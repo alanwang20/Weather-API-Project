{
 "cells": [
  {
   "cell_type": "markdown",
   "id": "520c3458",
   "metadata": {},
   "source": [
    "# Connect to API"
   ]
  },
  {
   "cell_type": "code",
   "execution_count": 18,
   "id": "1942c80f",
   "metadata": {},
   "outputs": [
    {
     "name": "stdout",
     "output_type": "stream",
     "text": [
      "Current temperature in Tokyo is 11.0°C and the condition is Partly cloudy.\n"
     ]
    }
   ],
   "source": [
    "import requests\n",
    "\n",
    "# Replace the value with your actual API key\n",
    "api_key = \"9cf39af3000d4479b4112627242003\"\n",
    "location = \"Tokyo\"\n",
    "\n",
    "# URL for current weather from WeatherAPI\n",
    "url = f\"http://api.weatherapi.com/v1/current.json?key={api_key}&q={location}\"\n",
    "\n",
    "# Make a GET request to the API\n",
    "response = requests.get(url)\n",
    "\n",
    "# Check if the request was successful\n",
    "if response.status_code == 200:\n",
    "    # Parse the response JSON and print it\n",
    "    data = response.json()\n",
    "    # Extracting some data to display\n",
    "    current_temp_c = data['current']['temp_c']\n",
    "    condition = data['current']['condition']['text']\n",
    "    print(f\"Current temperature in {location} is {current_temp_c}°C and the condition is {condition}.\")\n",
    "else:\n",
    "    print(\"Failed to retrieve data:\", response.status_code)\n"
   ]
  },
  {
   "cell_type": "markdown",
   "id": "ae2f7bd4",
   "metadata": {},
   "source": [
    "# Current Temp in Cities in Georgia"
   ]
  },
  {
   "cell_type": "code",
   "execution_count": 19,
   "id": "41dde0a7",
   "metadata": {},
   "outputs": [
    {
     "name": "stdout",
     "output_type": "stream",
     "text": [
      "Current temperature in Athens, GA is 9.4°C with Clear conditions.\n",
      "Current temperature in Atlanta, GA is 11.7°C with Clear conditions.\n",
      "Current temperature in Johns Creek, GA is 7.0°C with Clear conditions.\n",
      "Current temperature in Suwanee, GA is 10.6°C with Clear conditions.\n",
      "Current temperature in Carrollton, GA is 8.1°C with Clear conditions.\n",
      "Current temperature in Dunwoody, GA is 10.6°C with Clear conditions.\n"
     ]
    }
   ],
   "source": [
    "# List of cities in Georgia for which we want the weather data\n",
    "cities = [\"Athens, GA\", \"Atlanta, GA\", \"Johns Creek, GA\", \"Suwanee, GA\", \"Carrollton, GA\", \"Dunwoody, GA\"]\n",
    "\n",
    "# Base URL for current weather from WeatherAPI\n",
    "base_url = \"http://api.weatherapi.com/v1/current.json\"\n",
    "\n",
    "for city in cities:\n",
    "    # Parameters for the API request\n",
    "    params = {\n",
    "        'key': api_key,\n",
    "        'q': city\n",
    "    }\n",
    "    # Make a GET request to the API\n",
    "    response = requests.get(base_url, params=params)\n",
    "    \n",
    "    if response.status_code == 200:\n",
    "        # Parse the response JSON\n",
    "        data = response.json()\n",
    "        # Extracting data to display\n",
    "        current_temp_c = data['current']['temp_c']\n",
    "        condition = data['current']['condition']['text']\n",
    "        print(f\"Current temperature in {city} is {current_temp_c}°C with {condition} conditions.\")\n",
    "    else:\n",
    "        print(f\"Failed to retrieve data for {city}: {response.status_code}\")\n"
   ]
  },
  {
   "cell_type": "markdown",
   "id": "8edd5dc4",
   "metadata": {},
   "source": [
    "# Try and Build a Predictive Model"
   ]
  },
  {
   "cell_type": "markdown",
   "id": "156d36c8",
   "metadata": {},
   "source": [
    "## Function to get weather data for a single day"
   ]
  },
  {
   "cell_type": "code",
   "execution_count": 24,
   "id": "6e596a37",
   "metadata": {},
   "outputs": [],
   "source": [
    "from datetime import datetime, timedelta\n",
    "\n",
    "# Function to fetch weather data for a single day\n",
    "def fetch_weather_data(city, date, api_key):\n",
    "    url = f\"http://api.weatherapi.com/v1/history.json?key={api_key}&q={city}&dt={date}\"\n",
    "    response = requests.get(url)\n",
    "    if response.status_code == 200:\n",
    "        data = response.json()\n",
    "        print(data)\n",
    "        # Extracting the average temperature of the day\n",
    "        avg_temp = data['forecast']['forecastday'][0]['day']['avgtemp_c']\n",
    "        return avg_temp\n",
    "    else:\n",
    "        print(\"Failed to fetch data:\", response.status_code)\n",
    "        return None"
   ]
  },
  {
   "cell_type": "markdown",
   "id": "0c498213",
   "metadata": {},
   "source": [
    "## Collect Temperature Data for last 7 Days"
   ]
  },
  {
   "cell_type": "code",
   "execution_count": 26,
   "id": "8101e2e7",
   "metadata": {},
   "outputs": [
    {
     "name": "stdout",
     "output_type": "stream",
     "text": [
      "{'location': {'name': 'Athens', 'region': 'Georgia', 'country': 'United States of America', 'lat': 33.96, 'lon': -83.38, 'tz_id': 'America/New_York', 'localtime_epoch': 1710899130, 'localtime': '2024-03-19 21:45'}, 'forecast': {'forecastday': [{'date': '2024-03-18', 'date_epoch': 1710720000, 'day': {'maxtemp_c': 12.7, 'maxtemp_f': 54.9, 'mintemp_c': 3.8, 'mintemp_f': 38.9, 'avgtemp_c': 9.4, 'avgtemp_f': 48.9, 'maxwind_mph': 15.7, 'maxwind_kph': 25.2, 'totalprecip_mm': 0.0, 'totalprecip_in': 0.0, 'totalsnow_cm': 0.0, 'avgvis_km': 10.0, 'avgvis_miles': 6.0, 'avghumidity': 51, 'daily_will_it_rain': 0, 'daily_chance_of_rain': 0, 'daily_will_it_snow': 0, 'daily_chance_of_snow': 0, 'condition': {'text': 'Overcast', 'icon': '//cdn.weatherapi.com/weather/64x64/day/122.png', 'code': 1009}, 'uv': 3.0}, 'astro': {'sunrise': '07:39 AM', 'sunset': '07:44 PM', 'moonrise': '01:41 PM', 'moonset': '04:05 AM', 'moon_phase': 'Waxing Gibbous', 'moon_illumination': 58}, 'hour': [{'time_epoch': 1710734400, 'time': '2024-03-18 00:00', 'temp_c': 12.1, 'temp_f': 53.8, 'is_day': 0, 'condition': {'text': 'Clear', 'icon': '//cdn.weatherapi.com/weather/64x64/night/113.png', 'code': 1000}, 'wind_mph': 7.2, 'wind_kph': 11.5, 'wind_degree': 285, 'wind_dir': 'WNW', 'pressure_mb': 1011.0, 'pressure_in': 29.85, 'precip_mm': 0.0, 'precip_in': 0.0, 'snow_cm': 0.0, 'humidity': 80, 'cloud': 18, 'feelslike_c': 10.9, 'feelslike_f': 51.7, 'windchill_c': 10.9, 'windchill_f': 51.7, 'heatindex_c': 12.1, 'heatindex_f': 53.8, 'dewpoint_c': 9.0, 'dewpoint_f': 48.2, 'will_it_rain': 0, 'chance_of_rain': 0, 'will_it_snow': 0, 'chance_of_snow': 0, 'vis_km': 10.0, 'vis_miles': 6.0, 'gust_mph': 12.7, 'gust_kph': 20.4, 'uv': 1.0}, {'time_epoch': 1710738000, 'time': '2024-03-18 01:00', 'temp_c': 11.3, 'temp_f': 52.3, 'is_day': 0, 'condition': {'text': 'Clear', 'icon': '//cdn.weatherapi.com/weather/64x64/night/113.png', 'code': 1000}, 'wind_mph': 7.6, 'wind_kph': 12.2, 'wind_degree': 296, 'wind_dir': 'WNW', 'pressure_mb': 1011.0, 'pressure_in': 29.86, 'precip_mm': 0.0, 'precip_in': 0.0, 'snow_cm': 0.0, 'humidity': 81, 'cloud': 16, 'feelslike_c': 9.9, 'feelslike_f': 49.8, 'windchill_c': 9.9, 'windchill_f': 49.8, 'heatindex_c': 11.3, 'heatindex_f': 52.3, 'dewpoint_c': 8.2, 'dewpoint_f': 46.8, 'will_it_rain': 0, 'chance_of_rain': 0, 'will_it_snow': 0, 'chance_of_snow': 0, 'vis_km': 10.0, 'vis_miles': 6.0, 'gust_mph': 13.1, 'gust_kph': 21.1, 'uv': 1.0}, {'time_epoch': 1710741600, 'time': '2024-03-18 02:00', 'temp_c': 10.3, 'temp_f': 50.6, 'is_day': 0, 'condition': {'text': 'Clear', 'icon': '//cdn.weatherapi.com/weather/64x64/night/113.png', 'code': 1000}, 'wind_mph': 7.6, 'wind_kph': 12.2, 'wind_degree': 309, 'wind_dir': 'NW', 'pressure_mb': 1011.0, 'pressure_in': 29.86, 'precip_mm': 0.0, 'precip_in': 0.0, 'snow_cm': 0.0, 'humidity': 75, 'cloud': 16, 'feelslike_c': 8.7, 'feelslike_f': 47.6, 'windchill_c': 8.7, 'windchill_f': 47.6, 'heatindex_c': 10.3, 'heatindex_f': 50.6, 'dewpoint_c': 6.1, 'dewpoint_f': 43.0, 'will_it_rain': 0, 'chance_of_rain': 0, 'will_it_snow': 0, 'chance_of_snow': 0, 'vis_km': 10.0, 'vis_miles': 6.0, 'gust_mph': 13.0, 'gust_kph': 20.9, 'uv': 1.0}, {'time_epoch': 1710745200, 'time': '2024-03-18 03:00', 'temp_c': 9.5, 'temp_f': 49.1, 'is_day': 0, 'condition': {'text': 'Clear', 'icon': '//cdn.weatherapi.com/weather/64x64/night/113.png', 'code': 1000}, 'wind_mph': 7.8, 'wind_kph': 12.6, 'wind_degree': 299, 'wind_dir': 'WNW', 'pressure_mb': 1012.0, 'pressure_in': 29.87, 'precip_mm': 0.0, 'precip_in': 0.0, 'snow_cm': 0.0, 'humidity': 70, 'cloud': 23, 'feelslike_c': 7.7, 'feelslike_f': 45.8, 'windchill_c': 7.7, 'windchill_f': 45.8, 'heatindex_c': 9.5, 'heatindex_f': 49.1, 'dewpoint_c': 4.1, 'dewpoint_f': 39.4, 'will_it_rain': 0, 'chance_of_rain': 0, 'will_it_snow': 0, 'chance_of_snow': 0, 'vis_km': 10.0, 'vis_miles': 6.0, 'gust_mph': 13.8, 'gust_kph': 22.2, 'uv': 1.0}, {'time_epoch': 1710748800, 'time': '2024-03-18 04:00', 'temp_c': 8.7, 'temp_f': 47.6, 'is_day': 0, 'condition': {'text': 'Partly cloudy', 'icon': '//cdn.weatherapi.com/weather/64x64/night/116.png', 'code': 1003}, 'wind_mph': 7.6, 'wind_kph': 12.2, 'wind_degree': 291, 'wind_dir': 'WNW', 'pressure_mb': 1012.0, 'pressure_in': 29.87, 'precip_mm': 0.0, 'precip_in': 0.0, 'snow_cm': 0.0, 'humidity': 68, 'cloud': 47, 'feelslike_c': 6.7, 'feelslike_f': 44.1, 'windchill_c': 6.7, 'windchill_f': 44.1, 'heatindex_c': 8.6, 'heatindex_f': 47.6, 'dewpoint_c': 3.1, 'dewpoint_f': 37.6, 'will_it_rain': 0, 'chance_of_rain': 0, 'will_it_snow': 0, 'chance_of_snow': 0, 'vis_km': 10.0, 'vis_miles': 6.0, 'gust_mph': 13.2, 'gust_kph': 21.3, 'uv': 1.0}, {'time_epoch': 1710752400, 'time': '2024-03-18 05:00', 'temp_c': 8.0, 'temp_f': 46.4, 'is_day': 0, 'condition': {'text': 'Clear', 'icon': '//cdn.weatherapi.com/weather/64x64/night/113.png', 'code': 1000}, 'wind_mph': 7.2, 'wind_kph': 11.5, 'wind_degree': 288, 'wind_dir': 'WNW', 'pressure_mb': 1012.0, 'pressure_in': 29.87, 'precip_mm': 0.0, 'precip_in': 0.0, 'snow_cm': 0.0, 'humidity': 67, 'cloud': 16, 'feelslike_c': 5.9, 'feelslike_f': 42.6, 'windchill_c': 5.9, 'windchill_f': 42.6, 'heatindex_c': 8.0, 'heatindex_f': 46.4, 'dewpoint_c': 2.1, 'dewpoint_f': 35.9, 'will_it_rain': 0, 'chance_of_rain': 0, 'will_it_snow': 0, 'chance_of_snow': 0, 'vis_km': 10.0, 'vis_miles': 6.0, 'gust_mph': 12.9, 'gust_kph': 20.8, 'uv': 1.0}, {'time_epoch': 1710756000, 'time': '2024-03-18 06:00', 'temp_c': 7.5, 'temp_f': 45.5, 'is_day': 0, 'condition': {'text': 'Clear', 'icon': '//cdn.weatherapi.com/weather/64x64/night/113.png', 'code': 1000}, 'wind_mph': 7.6, 'wind_kph': 12.2, 'wind_degree': 286, 'wind_dir': 'WNW', 'pressure_mb': 1012.0, 'pressure_in': 29.89, 'precip_mm': 0.0, 'precip_in': 0.0, 'snow_cm': 0.0, 'humidity': 63, 'cloud': 22, 'feelslike_c': 5.3, 'feelslike_f': 41.6, 'windchill_c': 5.3, 'windchill_f': 41.6, 'heatindex_c': 7.5, 'heatindex_f': 45.5, 'dewpoint_c': 0.9, 'dewpoint_f': 33.6, 'will_it_rain': 0, 'chance_of_rain': 0, 'will_it_snow': 0, 'chance_of_snow': 0, 'vis_km': 10.0, 'vis_miles': 6.0, 'gust_mph': 13.3, 'gust_kph': 21.4, 'uv': 1.0}, {'time_epoch': 1710759600, 'time': '2024-03-18 07:00', 'temp_c': 7.2, 'temp_f': 45.0, 'is_day': 0, 'condition': {'text': 'Overcast', 'icon': '//cdn.weatherapi.com/weather/64x64/night/122.png', 'code': 1009}, 'wind_mph': 7.2, 'wind_kph': 11.5, 'wind_degree': 285, 'wind_dir': 'WNW', 'pressure_mb': 1013.0, 'pressure_in': 29.91, 'precip_mm': 0.0, 'precip_in': 0.0, 'snow_cm': 0.0, 'humidity': 61, 'cloud': 93, 'feelslike_c': 5.0, 'feelslike_f': 40.9, 'windchill_c': 5.0, 'windchill_f': 40.9, 'heatindex_c': 7.2, 'heatindex_f': 45.0, 'dewpoint_c': -0.1, 'dewpoint_f': 31.8, 'will_it_rain': 0, 'chance_of_rain': 0, 'will_it_snow': 0, 'chance_of_snow': 0, 'vis_km': 10.0, 'vis_miles': 6.0, 'gust_mph': 12.6, 'gust_kph': 20.3, 'uv': 1.0}, {'time_epoch': 1710763200, 'time': '2024-03-18 08:00', 'temp_c': 7.7, 'temp_f': 45.8, 'is_day': 1, 'condition': {'text': 'Overcast', 'icon': '//cdn.weatherapi.com/weather/64x64/day/122.png', 'code': 1009}, 'wind_mph': 7.6, 'wind_kph': 12.2, 'wind_degree': 285, 'wind_dir': 'WNW', 'pressure_mb': 1014.0, 'pressure_in': 29.93, 'precip_mm': 0.0, 'precip_in': 0.0, 'snow_cm': 0.0, 'humidity': 59, 'cloud': 100, 'feelslike_c': 5.4, 'feelslike_f': 41.7, 'windchill_c': 5.4, 'windchill_f': 41.7, 'heatindex_c': 7.7, 'heatindex_f': 45.8, 'dewpoint_c': -0.4, 'dewpoint_f': 31.2, 'will_it_rain': 0, 'chance_of_rain': 0, 'will_it_snow': 0, 'chance_of_snow': 0, 'vis_km': 10.0, 'vis_miles': 6.0, 'gust_mph': 13.1, 'gust_kph': 21.0, 'uv': 2.0}, {'time_epoch': 1710766800, 'time': '2024-03-18 09:00', 'temp_c': 8.7, 'temp_f': 47.7, 'is_day': 1, 'condition': {'text': 'Overcast', 'icon': '//cdn.weatherapi.com/weather/64x64/day/122.png', 'code': 1009}, 'wind_mph': 8.3, 'wind_kph': 13.3, 'wind_degree': 292, 'wind_dir': 'WNW', 'pressure_mb': 1014.0, 'pressure_in': 29.95, 'precip_mm': 0.0, 'precip_in': 0.0, 'snow_cm': 0.0, 'humidity': 56, 'cloud': 100, 'feelslike_c': 6.5, 'feelslike_f': 43.6, 'windchill_c': 6.5, 'windchill_f': 43.6, 'heatindex_c': 8.7, 'heatindex_f': 47.7, 'dewpoint_c': -0.0, 'dewpoint_f': 32.0, 'will_it_rain': 0, 'chance_of_rain': 0, 'will_it_snow': 0, 'chance_of_snow': 0, 'vis_km': 10.0, 'vis_miles': 6.0, 'gust_mph': 12.0, 'gust_kph': 19.4, 'uv': 2.0}, {'time_epoch': 1710770400, 'time': '2024-03-18 10:00', 'temp_c': 9.8, 'temp_f': 49.7, 'is_day': 1, 'condition': {'text': 'Partly cloudy', 'icon': '//cdn.weatherapi.com/weather/64x64/day/116.png', 'code': 1003}, 'wind_mph': 9.6, 'wind_kph': 15.5, 'wind_degree': 295, 'wind_dir': 'WNW', 'pressure_mb': 1015.0, 'pressure_in': 29.96, 'precip_mm': 0.0, 'precip_in': 0.0, 'snow_cm': 0.0, 'humidity': 47, 'cloud': 28, 'feelslike_c': 7.7, 'feelslike_f': 45.8, 'windchill_c': 7.7, 'windchill_f': 45.8, 'heatindex_c': 9.8, 'heatindex_f': 49.7, 'dewpoint_c': -1.1, 'dewpoint_f': 30.1, 'will_it_rain': 0, 'chance_of_rain': 0, 'will_it_snow': 0, 'chance_of_snow': 0, 'vis_km': 10.0, 'vis_miles': 6.0, 'gust_mph': 12.4, 'gust_kph': 20.0, 'uv': 3.0}, {'time_epoch': 1710774000, 'time': '2024-03-18 11:00', 'temp_c': 10.4, 'temp_f': 50.8, 'is_day': 1, 'condition': {'text': 'Cloudy', 'icon': '//cdn.weatherapi.com/weather/64x64/day/119.png', 'code': 1006}, 'wind_mph': 10.5, 'wind_kph': 16.9, 'wind_degree': 300, 'wind_dir': 'WNW', 'pressure_mb': 1015.0, 'pressure_in': 29.98, 'precip_mm': 0.0, 'precip_in': 0.0, 'snow_cm': 0.0, 'humidity': 41, 'cloud': 64, 'feelslike_c': 8.3, 'feelslike_f': 47.0, 'windchill_c': 8.3, 'windchill_f': 47.0, 'heatindex_c': 10.4, 'heatindex_f': 50.8, 'dewpoint_c': -1.7, 'dewpoint_f': 28.9, 'will_it_rain': 0, 'chance_of_rain': 0, 'will_it_snow': 0, 'chance_of_snow': 0, 'vis_km': 10.0, 'vis_miles': 6.0, 'gust_mph': 12.2, 'gust_kph': 19.7, 'uv': 3.0}, {'time_epoch': 1710777600, 'time': '2024-03-18 12:00', 'temp_c': 11.1, 'temp_f': 52.1, 'is_day': 1, 'condition': {'text': 'Partly cloudy', 'icon': '//cdn.weatherapi.com/weather/64x64/day/116.png', 'code': 1003}, 'wind_mph': 11.0, 'wind_kph': 17.6, 'wind_degree': 297, 'wind_dir': 'WNW', 'pressure_mb': 1015.0, 'pressure_in': 29.98, 'precip_mm': 0.0, 'precip_in': 0.0, 'snow_cm': 0.0, 'humidity': 40, 'cloud': 32, 'feelslike_c': 9.1, 'feelslike_f': 48.5, 'windchill_c': 9.1, 'windchill_f': 48.5, 'heatindex_c': 11.1, 'heatindex_f': 52.1, 'dewpoint_c': -1.9, 'dewpoint_f': 28.5, 'will_it_rain': 0, 'chance_of_rain': 0, 'will_it_snow': 0, 'chance_of_snow': 0, 'vis_km': 10.0, 'vis_miles': 6.0, 'gust_mph': 12.9, 'gust_kph': 20.8, 'uv': 4.0}, {'time_epoch': 1710781200, 'time': '2024-03-18 13:00', 'temp_c': 12.2, 'temp_f': 54.0, 'is_day': 1, 'condition': {'text': 'Sunny', 'icon': '//cdn.weatherapi.com/weather/64x64/day/113.png', 'code': 1000}, 'wind_mph': 10.5, 'wind_kph': 16.9, 'wind_degree': 291, 'wind_dir': 'WNW', 'pressure_mb': 1015.0, 'pressure_in': 29.96, 'precip_mm': 0.0, 'precip_in': 0.0, 'snow_cm': 0.0, 'humidity': 38, 'cloud': 8, 'feelslike_c': 10.3, 'feelslike_f': 50.6, 'windchill_c': 10.3, 'windchill_f': 50.6, 'heatindex_c': 12.2, 'heatindex_f': 54.0, 'dewpoint_c': -2.1, 'dewpoint_f': 28.2, 'will_it_rain': 0, 'chance_of_rain': 0, 'will_it_snow': 0, 'chance_of_snow': 0, 'vis_km': 10.0, 'vis_miles': 6.0, 'gust_mph': 12.1, 'gust_kph': 19.5, 'uv': 4.0}, {'time_epoch': 1710784800, 'time': '2024-03-18 14:00', 'temp_c': 12.7, 'temp_f': 54.9, 'is_day': 1, 'condition': {'text': 'Sunny', 'icon': '//cdn.weatherapi.com/weather/64x64/day/113.png', 'code': 1000}, 'wind_mph': 12.5, 'wind_kph': 20.2, 'wind_degree': 283, 'wind_dir': 'WNW', 'pressure_mb': 1014.0, 'pressure_in': 29.94, 'precip_mm': 0.0, 'precip_in': 0.0, 'snow_cm': 0.0, 'humidity': 33, 'cloud': 5, 'feelslike_c': 10.7, 'feelslike_f': 51.3, 'windchill_c': 10.7, 'windchill_f': 51.3, 'heatindex_c': 12.7, 'heatindex_f': 54.9, 'dewpoint_c': -2.7, 'dewpoint_f': 27.1, 'will_it_rain': 0, 'chance_of_rain': 0, 'will_it_snow': 0, 'chance_of_snow': 0, 'vis_km': 10.0, 'vis_miles': 6.0, 'gust_mph': 14.4, 'gust_kph': 23.2, 'uv': 4.0}, {'time_epoch': 1710788400, 'time': '2024-03-18 15:00', 'temp_c': 12.7, 'temp_f': 54.9, 'is_day': 1, 'condition': {'text': 'Sunny', 'icon': '//cdn.weatherapi.com/weather/64x64/day/113.png', 'code': 1000}, 'wind_mph': 15.7, 'wind_kph': 25.2, 'wind_degree': 285, 'wind_dir': 'WNW', 'pressure_mb': 1013.0, 'pressure_in': 29.92, 'precip_mm': 0.0, 'precip_in': 0.0, 'snow_cm': 0.0, 'humidity': 32, 'cloud': 8, 'feelslike_c': 10.6, 'feelslike_f': 51.1, 'windchill_c': 10.6, 'windchill_f': 51.1, 'heatindex_c': 12.7, 'heatindex_f': 54.9, 'dewpoint_c': -3.2, 'dewpoint_f': 26.3, 'will_it_rain': 0, 'chance_of_rain': 0, 'will_it_snow': 0, 'chance_of_snow': 0, 'vis_km': 10.0, 'vis_miles': 6.0, 'gust_mph': 18.0, 'gust_kph': 29.0, 'uv': 4.0}, {'time_epoch': 1710792000, 'time': '2024-03-18 16:00', 'temp_c': 12.5, 'temp_f': 54.5, 'is_day': 1, 'condition': {'text': 'Sunny', 'icon': '//cdn.weatherapi.com/weather/64x64/day/113.png', 'code': 1000}, 'wind_mph': 15.7, 'wind_kph': 25.2, 'wind_degree': 292, 'wind_dir': 'WNW', 'pressure_mb': 1013.0, 'pressure_in': 29.92, 'precip_mm': 0.0, 'precip_in': 0.0, 'snow_cm': 0.0, 'humidity': 32, 'cloud': 9, 'feelslike_c': 10.2, 'feelslike_f': 50.4, 'windchill_c': 10.2, 'windchill_f': 50.4, 'heatindex_c': 12.5, 'heatindex_f': 54.5, 'dewpoint_c': -3.3, 'dewpoint_f': 26.0, 'will_it_rain': 0, 'chance_of_rain': 0, 'will_it_snow': 0, 'chance_of_snow': 0, 'vis_km': 10.0, 'vis_miles': 6.0, 'gust_mph': 18.0, 'gust_kph': 29.0, 'uv': 4.0}, {'time_epoch': 1710795600, 'time': '2024-03-18 17:00', 'temp_c': 11.7, 'temp_f': 53.1, 'is_day': 1, 'condition': {'text': 'Sunny', 'icon': '//cdn.weatherapi.com/weather/64x64/day/113.png', 'code': 1000}, 'wind_mph': 15.0, 'wind_kph': 24.1, 'wind_degree': 297, 'wind_dir': 'WNW', 'pressure_mb': 1013.0, 'pressure_in': 29.93, 'precip_mm': 0.0, 'precip_in': 0.0, 'snow_cm': 0.0, 'humidity': 35, 'cloud': 9, 'feelslike_c': 9.3, 'feelslike_f': 48.8, 'windchill_c': 9.3, 'windchill_f': 48.8, 'heatindex_c': 11.7, 'heatindex_f': 53.1, 'dewpoint_c': -2.9, 'dewpoint_f': 26.8, 'will_it_rain': 0, 'chance_of_rain': 0, 'will_it_snow': 0, 'chance_of_snow': 0, 'vis_km': 10.0, 'vis_miles': 6.0, 'gust_mph': 17.2, 'gust_kph': 27.8, 'uv': 4.0}, {'time_epoch': 1710799200, 'time': '2024-03-18 18:00', 'temp_c': 10.3, 'temp_f': 50.6, 'is_day': 1, 'condition': {'text': 'Sunny', 'icon': '//cdn.weatherapi.com/weather/64x64/day/113.png', 'code': 1000}, 'wind_mph': 13.9, 'wind_kph': 22.3, 'wind_degree': 299, 'wind_dir': 'WNW', 'pressure_mb': 1014.0, 'pressure_in': 29.94, 'precip_mm': 0.0, 'precip_in': 0.0, 'snow_cm': 0.0, 'humidity': 38, 'cloud': 9, 'feelslike_c': 7.6, 'feelslike_f': 45.7, 'windchill_c': 7.6, 'windchill_f': 45.7, 'heatindex_c': 10.3, 'heatindex_f': 50.6, 'dewpoint_c': -2.6, 'dewpoint_f': 27.3, 'will_it_rain': 0, 'chance_of_rain': 0, 'will_it_snow': 0, 'chance_of_snow': 0, 'vis_km': 10.0, 'vis_miles': 6.0, 'gust_mph': 18.0, 'gust_kph': 28.9, 'uv': 4.0}, {'time_epoch': 1710802800, 'time': '2024-03-18 19:00', 'temp_c': 8.6, 'temp_f': 47.5, 'is_day': 1, 'condition': {'text': 'Sunny', 'icon': '//cdn.weatherapi.com/weather/64x64/day/113.png', 'code': 1000}, 'wind_mph': 13.6, 'wind_kph': 22.0, 'wind_degree': 301, 'wind_dir': 'WNW', 'pressure_mb': 1015.0, 'pressure_in': 29.98, 'precip_mm': 0.0, 'precip_in': 0.0, 'snow_cm': 0.0, 'humidity': 41, 'cloud': 9, 'feelslike_c': 5.5, 'feelslike_f': 41.9, 'windchill_c': 5.5, 'windchill_f': 41.9, 'heatindex_c': 8.6, 'heatindex_f': 47.5, 'dewpoint_c': -3.7, 'dewpoint_f': 25.4, 'will_it_rain': 0, 'chance_of_rain': 0, 'will_it_snow': 0, 'chance_of_snow': 0, 'vis_km': 10.0, 'vis_miles': 6.0, 'gust_mph': 20.9, 'gust_kph': 33.7, 'uv': 3.0}, {'time_epoch': 1710806400, 'time': '2024-03-18 20:00', 'temp_c': 7.1, 'temp_f': 44.8, 'is_day': 0, 'condition': {'text': 'Clear', 'icon': '//cdn.weatherapi.com/weather/64x64/night/113.png', 'code': 1000}, 'wind_mph': 13.2, 'wind_kph': 21.2, 'wind_degree': 315, 'wind_dir': 'NW', 'pressure_mb': 1017.0, 'pressure_in': 30.02, 'precip_mm': 0.0, 'precip_in': 0.0, 'snow_cm': 0.0, 'humidity': 42, 'cloud': 13, 'feelslike_c': 3.6, 'feelslike_f': 38.4, 'windchill_c': 3.6, 'windchill_f': 38.4, 'heatindex_c': 7.1, 'heatindex_f': 44.8, 'dewpoint_c': -5.1, 'dewpoint_f': 22.8, 'will_it_rain': 0, 'chance_of_rain': 0, 'will_it_snow': 0, 'chance_of_snow': 0, 'vis_km': 10.0, 'vis_miles': 6.0, 'gust_mph': 22.1, 'gust_kph': 35.6, 'uv': 1.0}, {'time_epoch': 1710810000, 'time': '2024-03-18 21:00', 'temp_c': 5.8, 'temp_f': 42.5, 'is_day': 0, 'condition': {'text': 'Clear', 'icon': '//cdn.weatherapi.com/weather/64x64/night/113.png', 'code': 1000}, 'wind_mph': 13.2, 'wind_kph': 21.2, 'wind_degree': 316, 'wind_dir': 'NW', 'pressure_mb': 1019.0, 'pressure_in': 30.08, 'precip_mm': 0.0, 'precip_in': 0.0, 'snow_cm': 0.0, 'humidity': 43, 'cloud': 5, 'feelslike_c': 2.1, 'feelslike_f': 35.7, 'windchill_c': 2.1, 'windchill_f': 35.7, 'heatindex_c': 5.8, 'heatindex_f': 42.5, 'dewpoint_c': -6.1, 'dewpoint_f': 21.0, 'will_it_rain': 0, 'chance_of_rain': 0, 'will_it_snow': 0, 'chance_of_snow': 0, 'vis_km': 10.0, 'vis_miles': 6.0, 'gust_mph': 21.9, 'gust_kph': 35.2, 'uv': 1.0}, {'time_epoch': 1710813600, 'time': '2024-03-18 22:00', 'temp_c': 4.7, 'temp_f': 40.5, 'is_day': 0, 'condition': {'text': 'Clear', 'icon': '//cdn.weatherapi.com/weather/64x64/night/113.png', 'code': 1000}, 'wind_mph': 11.9, 'wind_kph': 19.1, 'wind_degree': 321, 'wind_dir': 'NW', 'pressure_mb': 1020.0, 'pressure_in': 30.11, 'precip_mm': 0.0, 'precip_in': 0.0, 'snow_cm': 0.0, 'humidity': 45, 'cloud': 2, 'feelslike_c': 0.9, 'feelslike_f': 33.7, 'windchill_c': 0.9, 'windchill_f': 33.7, 'heatindex_c': 4.7, 'heatindex_f': 40.5, 'dewpoint_c': -6.3, 'dewpoint_f': 20.7, 'will_it_rain': 0, 'chance_of_rain': 0, 'will_it_snow': 0, 'chance_of_snow': 0, 'vis_km': 10.0, 'vis_miles': 6.0, 'gust_mph': 19.8, 'gust_kph': 31.9, 'uv': 1.0}, {'time_epoch': 1710817200, 'time': '2024-03-18 23:00', 'temp_c': 3.8, 'temp_f': 38.9, 'is_day': 0, 'condition': {'text': 'Clear', 'icon': '//cdn.weatherapi.com/weather/64x64/night/113.png', 'code': 1000}, 'wind_mph': 10.5, 'wind_kph': 16.9, 'wind_degree': 320, 'wind_dir': 'NW', 'pressure_mb': 1021.0, 'pressure_in': 30.14, 'precip_mm': 0.0, 'precip_in': 0.0, 'snow_cm': 0.0, 'humidity': 49, 'cloud': 0, 'feelslike_c': 0.1, 'feelslike_f': 32.1, 'windchill_c': 0.1, 'windchill_f': 32.1, 'heatindex_c': 3.8, 'heatindex_f': 38.9, 'dewpoint_c': -6.1, 'dewpoint_f': 21.0, 'will_it_rain': 0, 'chance_of_rain': 0, 'will_it_snow': 0, 'chance_of_snow': 0, 'vis_km': 10.0, 'vis_miles': 6.0, 'gust_mph': 17.6, 'gust_kph': 28.4, 'uv': 1.0}]}]}}\n",
      "{'location': {'name': 'Athens', 'region': 'Georgia', 'country': 'United States of America', 'lat': 33.96, 'lon': -83.38, 'tz_id': 'America/New_York', 'localtime_epoch': 1710899130, 'localtime': '2024-03-19 21:45'}, 'forecast': {'forecastday': [{'date': '2024-03-17', 'date_epoch': 1710633600, 'day': {'maxtemp_c': 19.4, 'maxtemp_f': 66.9, 'mintemp_c': 11.3, 'mintemp_f': 52.3, 'avgtemp_c': 14.7, 'avgtemp_f': 58.4, 'maxwind_mph': 11.2, 'maxwind_kph': 18.0, 'totalprecip_mm': 0.0, 'totalprecip_in': 0.0, 'totalsnow_cm': 0.0, 'avgvis_km': 10.0, 'avgvis_miles': 6.0, 'avghumidity': 70, 'daily_will_it_rain': 0, 'daily_chance_of_rain': 0, 'daily_will_it_snow': 0, 'daily_chance_of_snow': 0, 'condition': {'text': 'Cloudy', 'icon': '//cdn.weatherapi.com/weather/64x64/day/119.png', 'code': 1006}, 'uv': 4.0}, 'astro': {'sunrise': '07:41 AM', 'sunset': '07:44 PM', 'moonrise': '12:42 PM', 'moonset': '03:11 AM', 'moon_phase': 'First Quarter', 'moon_illumination': 48}, 'hour': [{'time_epoch': 1710648000, 'time': '2024-03-17 00:00', 'temp_c': 13.7, 'temp_f': 56.7, 'is_day': 0, 'condition': {'text': 'Partly cloudy', 'icon': '//cdn.weatherapi.com/weather/64x64/night/116.png', 'code': 1003}, 'wind_mph': 6.9, 'wind_kph': 11.2, 'wind_degree': 276, 'wind_dir': 'W', 'pressure_mb': 1012.0, 'pressure_in': 29.87, 'precip_mm': 0.0, 'precip_in': 0.0, 'snow_cm': 0.0, 'humidity': 81, 'cloud': 33, 'feelslike_c': 12.9, 'feelslike_f': 55.2, 'windchill_c': 12.9, 'windchill_f': 55.2, 'heatindex_c': 13.7, 'heatindex_f': 56.7, 'dewpoint_c': 10.4, 'dewpoint_f': 50.8, 'will_it_rain': 0, 'chance_of_rain': 0, 'will_it_snow': 0, 'chance_of_snow': 0, 'vis_km': 10.0, 'vis_miles': 6.0, 'gust_mph': 13.9, 'gust_kph': 22.4, 'uv': 1.0}, {'time_epoch': 1710651600, 'time': '2024-03-17 01:00', 'temp_c': 13.2, 'temp_f': 55.7, 'is_day': 0, 'condition': {'text': 'Partly cloudy', 'icon': '//cdn.weatherapi.com/weather/64x64/night/116.png', 'code': 1003}, 'wind_mph': 6.9, 'wind_kph': 11.2, 'wind_degree': 265, 'wind_dir': 'W', 'pressure_mb': 1012.0, 'pressure_in': 29.87, 'precip_mm': 0.0, 'precip_in': 0.0, 'snow_cm': 0.0, 'humidity': 83, 'cloud': 33, 'feelslike_c': 12.3, 'feelslike_f': 54.1, 'windchill_c': 12.3, 'windchill_f': 54.1, 'heatindex_c': 13.2, 'heatindex_f': 55.7, 'dewpoint_c': 10.3, 'dewpoint_f': 50.6, 'will_it_rain': 0, 'chance_of_rain': 0, 'will_it_snow': 0, 'chance_of_snow': 0, 'vis_km': 10.0, 'vis_miles': 6.0, 'gust_mph': 14.0, 'gust_kph': 22.5, 'uv': 1.0}, {'time_epoch': 1710655200, 'time': '2024-03-17 02:00', 'temp_c': 12.7, 'temp_f': 54.9, 'is_day': 0, 'condition': {'text': 'Partly cloudy', 'icon': '//cdn.weatherapi.com/weather/64x64/night/116.png', 'code': 1003}, 'wind_mph': 6.7, 'wind_kph': 10.8, 'wind_degree': 264, 'wind_dir': 'W', 'pressure_mb': 1011.0, 'pressure_in': 29.86, 'precip_mm': 0.0, 'precip_in': 0.0, 'snow_cm': 0.0, 'humidity': 84, 'cloud': 33, 'feelslike_c': 11.7, 'feelslike_f': 53.1, 'windchill_c': 11.7, 'windchill_f': 53.1, 'heatindex_c': 12.7, 'heatindex_f': 54.9, 'dewpoint_c': 10.0, 'dewpoint_f': 49.9, 'will_it_rain': 0, 'chance_of_rain': 0, 'will_it_snow': 0, 'chance_of_snow': 0, 'vis_km': 10.0, 'vis_miles': 6.0, 'gust_mph': 13.7, 'gust_kph': 22.0, 'uv': 1.0}, {'time_epoch': 1710658800, 'time': '2024-03-17 03:00', 'temp_c': 12.2, 'temp_f': 53.9, 'is_day': 0, 'condition': {'text': 'Partly cloudy', 'icon': '//cdn.weatherapi.com/weather/64x64/night/116.png', 'code': 1003}, 'wind_mph': 6.7, 'wind_kph': 10.8, 'wind_degree': 266, 'wind_dir': 'W', 'pressure_mb': 1011.0, 'pressure_in': 29.85, 'precip_mm': 0.0, 'precip_in': 0.0, 'snow_cm': 0.0, 'humidity': 83, 'cloud': 33, 'feelslike_c': 11.0, 'feelslike_f': 51.9, 'windchill_c': 11.0, 'windchill_f': 51.9, 'heatindex_c': 12.2, 'heatindex_f': 54.0, 'dewpoint_c': 9.4, 'dewpoint_f': 48.9, 'will_it_rain': 0, 'chance_of_rain': 0, 'will_it_snow': 0, 'chance_of_snow': 0, 'vis_km': 10.0, 'vis_miles': 6.0, 'gust_mph': 13.4, 'gust_kph': 21.6, 'uv': 1.0}, {'time_epoch': 1710662400, 'time': '2024-03-17 04:00', 'temp_c': 11.7, 'temp_f': 53.1, 'is_day': 0, 'condition': {'text': 'Clear', 'icon': '//cdn.weatherapi.com/weather/64x64/night/113.png', 'code': 1000}, 'wind_mph': 7.6, 'wind_kph': 12.2, 'wind_degree': 264, 'wind_dir': 'W', 'pressure_mb': 1011.0, 'pressure_in': 29.84, 'precip_mm': 0.0, 'precip_in': 0.0, 'snow_cm': 0.0, 'humidity': 83, 'cloud': 20, 'feelslike_c': 10.3, 'feelslike_f': 50.6, 'windchill_c': 10.3, 'windchill_f': 50.6, 'heatindex_c': 11.7, 'heatindex_f': 53.1, 'dewpoint_c': 8.9, 'dewpoint_f': 48.1, 'will_it_rain': 0, 'chance_of_rain': 0, 'will_it_snow': 0, 'chance_of_snow': 0, 'vis_km': 10.0, 'vis_miles': 6.0, 'gust_mph': 15.1, 'gust_kph': 24.4, 'uv': 1.0}, {'time_epoch': 1710666000, 'time': '2024-03-17 05:00', 'temp_c': 11.4, 'temp_f': 52.5, 'is_day': 0, 'condition': {'text': 'Clear', 'icon': '//cdn.weatherapi.com/weather/64x64/night/113.png', 'code': 1000}, 'wind_mph': 8.5, 'wind_kph': 13.7, 'wind_degree': 268, 'wind_dir': 'W', 'pressure_mb': 1011.0, 'pressure_in': 29.85, 'precip_mm': 0.0, 'precip_in': 0.0, 'snow_cm': 0.0, 'humidity': 82, 'cloud': 6, 'feelslike_c': 9.9, 'feelslike_f': 49.8, 'windchill_c': 9.9, 'windchill_f': 49.8, 'heatindex_c': 11.4, 'heatindex_f': 52.5, 'dewpoint_c': 8.2, 'dewpoint_f': 46.8, 'will_it_rain': 0, 'chance_of_rain': 0, 'will_it_snow': 0, 'chance_of_snow': 0, 'vis_km': 10.0, 'vis_miles': 6.0, 'gust_mph': 17.0, 'gust_kph': 27.4, 'uv': 1.0}, {'time_epoch': 1710669600, 'time': '2024-03-17 06:00', 'temp_c': 11.3, 'temp_f': 52.3, 'is_day': 0, 'condition': {'text': 'Partly cloudy', 'icon': '//cdn.weatherapi.com/weather/64x64/night/116.png', 'code': 1003}, 'wind_mph': 7.8, 'wind_kph': 12.6, 'wind_degree': 276, 'wind_dir': 'W', 'pressure_mb': 1011.0, 'pressure_in': 29.85, 'precip_mm': 0.0, 'precip_in': 0.0, 'snow_cm': 0.0, 'humidity': 82, 'cloud': 33, 'feelslike_c': 9.8, 'feelslike_f': 49.6, 'windchill_c': 9.8, 'windchill_f': 49.6, 'heatindex_c': 11.3, 'heatindex_f': 52.3, 'dewpoint_c': 8.1, 'dewpoint_f': 46.5, 'will_it_rain': 0, 'chance_of_rain': 0, 'will_it_snow': 0, 'chance_of_snow': 0, 'vis_km': 10.0, 'vis_miles': 6.0, 'gust_mph': 15.8, 'gust_kph': 25.5, 'uv': 1.0}, {'time_epoch': 1710673200, 'time': '2024-03-17 07:00', 'temp_c': 11.9, 'temp_f': 53.4, 'is_day': 0, 'condition': {'text': 'Partly cloudy', 'icon': '//cdn.weatherapi.com/weather/64x64/night/116.png', 'code': 1003}, 'wind_mph': 7.6, 'wind_kph': 12.2, 'wind_degree': 272, 'wind_dir': 'W', 'pressure_mb': 1011.0, 'pressure_in': 29.85, 'precip_mm': 0.0, 'precip_in': 0.0, 'snow_cm': 0.0, 'humidity': 81, 'cloud': 52, 'feelslike_c': 10.5, 'feelslike_f': 50.9, 'windchill_c': 10.5, 'windchill_f': 50.9, 'heatindex_c': 11.9, 'heatindex_f': 53.4, 'dewpoint_c': 8.0, 'dewpoint_f': 46.4, 'will_it_rain': 0, 'chance_of_rain': 0, 'will_it_snow': 0, 'chance_of_snow': 0, 'vis_km': 10.0, 'vis_miles': 6.0, 'gust_mph': 15.0, 'gust_kph': 24.2, 'uv': 1.0}, {'time_epoch': 1710676800, 'time': '2024-03-17 08:00', 'temp_c': 12.5, 'temp_f': 54.6, 'is_day': 1, 'condition': {'text': 'Partly cloudy', 'icon': '//cdn.weatherapi.com/weather/64x64/day/116.png', 'code': 1003}, 'wind_mph': 8.3, 'wind_kph': 13.3, 'wind_degree': 291, 'wind_dir': 'WNW', 'pressure_mb': 1011.0, 'pressure_in': 29.87, 'precip_mm': 0.0, 'precip_in': 0.0, 'snow_cm': 0.0, 'humidity': 73, 'cloud': 48, 'feelslike_c': 11.3, 'feelslike_f': 52.4, 'windchill_c': 11.3, 'windchill_f': 52.4, 'heatindex_c': 12.5, 'heatindex_f': 54.6, 'dewpoint_c': 7.9, 'dewpoint_f': 46.1, 'will_it_rain': 0, 'chance_of_rain': 0, 'will_it_snow': 0, 'chance_of_snow': 0, 'vis_km': 10.0, 'vis_miles': 6.0, 'gust_mph': 14.1, 'gust_kph': 22.8, 'uv': 4.0}, {'time_epoch': 1710680400, 'time': '2024-03-17 09:00', 'temp_c': 12.9, 'temp_f': 55.3, 'is_day': 1, 'condition': {'text': 'Partly cloudy', 'icon': '//cdn.weatherapi.com/weather/64x64/day/116.png', 'code': 1003}, 'wind_mph': 7.6, 'wind_kph': 12.2, 'wind_degree': 276, 'wind_dir': 'W', 'pressure_mb': 1012.0, 'pressure_in': 29.89, 'precip_mm': 0.0, 'precip_in': 0.0, 'snow_cm': 0.0, 'humidity': 70, 'cloud': 40, 'feelslike_c': 12.0, 'feelslike_f': 53.7, 'windchill_c': 12.0, 'windchill_f': 53.7, 'heatindex_c': 12.9, 'heatindex_f': 55.3, 'dewpoint_c': 7.9, 'dewpoint_f': 46.2, 'will_it_rain': 0, 'chance_of_rain': 0, 'will_it_snow': 0, 'chance_of_snow': 0, 'vis_km': 10.0, 'vis_miles': 6.0, 'gust_mph': 12.2, 'gust_kph': 19.7, 'uv': 4.0}, {'time_epoch': 1710684000, 'time': '2024-03-17 10:00', 'temp_c': 13.5, 'temp_f': 56.4, 'is_day': 1, 'condition': {'text': 'Cloudy', 'icon': '//cdn.weatherapi.com/weather/64x64/day/119.png', 'code': 1006}, 'wind_mph': 5.8, 'wind_kph': 9.4, 'wind_degree': 262, 'wind_dir': 'W', 'pressure_mb': 1012.0, 'pressure_in': 29.88, 'precip_mm': 0.0, 'precip_in': 0.0, 'snow_cm': 0.0, 'humidity': 71, 'cloud': 81, 'feelslike_c': 12.8, 'feelslike_f': 55.0, 'windchill_c': 12.8, 'windchill_f': 55.0, 'heatindex_c': 13.5, 'heatindex_f': 56.3, 'dewpoint_c': 8.3, 'dewpoint_f': 47.0, 'will_it_rain': 0, 'chance_of_rain': 0, 'will_it_snow': 0, 'chance_of_snow': 0, 'vis_km': 10.0, 'vis_miles': 6.0, 'gust_mph': 9.3, 'gust_kph': 14.9, 'uv': 3.0}, {'time_epoch': 1710687600, 'time': '2024-03-17 11:00', 'temp_c': 15.4, 'temp_f': 59.8, 'is_day': 1, 'condition': {'text': 'Partly cloudy', 'icon': '//cdn.weatherapi.com/weather/64x64/day/116.png', 'code': 1003}, 'wind_mph': 6.3, 'wind_kph': 10.1, 'wind_degree': 260, 'wind_dir': 'W', 'pressure_mb': 1012.0, 'pressure_in': 29.88, 'precip_mm': 0.0, 'precip_in': 0.0, 'snow_cm': 0.0, 'humidity': 70, 'cloud': 28, 'feelslike_c': 15.0, 'feelslike_f': 59.1, 'windchill_c': 15.0, 'windchill_f': 59.1, 'heatindex_c': 15.4, 'heatindex_f': 59.8, 'dewpoint_c': 8.8, 'dewpoint_f': 47.9, 'will_it_rain': 0, 'chance_of_rain': 0, 'will_it_snow': 0, 'chance_of_snow': 0, 'vis_km': 10.0, 'vis_miles': 6.0, 'gust_mph': 9.0, 'gust_kph': 14.5, 'uv': 5.0}, {'time_epoch': 1710691200, 'time': '2024-03-17 12:00', 'temp_c': 16.8, 'temp_f': 62.2, 'is_day': 1, 'condition': {'text': 'Sunny', 'icon': '//cdn.weatherapi.com/weather/64x64/day/113.png', 'code': 1000}, 'wind_mph': 9.2, 'wind_kph': 14.8, 'wind_degree': 269, 'wind_dir': 'W', 'pressure_mb': 1011.0, 'pressure_in': 29.87, 'precip_mm': 0.0, 'precip_in': 0.0, 'snow_cm': 0.0, 'humidity': 57, 'cloud': 18, 'feelslike_c': 16.6, 'feelslike_f': 61.8, 'windchill_c': 16.6, 'windchill_f': 61.8, 'heatindex_c': 16.8, 'heatindex_f': 62.2, 'dewpoint_c': 8.9, 'dewpoint_f': 47.9, 'will_it_rain': 0, 'chance_of_rain': 0, 'will_it_snow': 0, 'chance_of_snow': 0, 'vis_km': 10.0, 'vis_miles': 6.0, 'gust_mph': 10.6, 'gust_kph': 17.0, 'uv': 5.0}, {'time_epoch': 1710694800, 'time': '2024-03-17 13:00', 'temp_c': 18.4, 'temp_f': 65.1, 'is_day': 1, 'condition': {'text': 'Partly cloudy', 'icon': '//cdn.weatherapi.com/weather/64x64/day/116.png', 'code': 1003}, 'wind_mph': 10.1, 'wind_kph': 16.2, 'wind_degree': 271, 'wind_dir': 'W', 'pressure_mb': 1011.0, 'pressure_in': 29.85, 'precip_mm': 0.0, 'precip_in': 0.0, 'snow_cm': 0.0, 'humidity': 54, 'cloud': 31, 'feelslike_c': 18.3, 'feelslike_f': 64.9, 'windchill_c': 18.3, 'windchill_f': 64.9, 'heatindex_c': 18.4, 'heatindex_f': 65.1, 'dewpoint_c': 8.8, 'dewpoint_f': 47.9, 'will_it_rain': 0, 'chance_of_rain': 0, 'will_it_snow': 0, 'chance_of_snow': 0, 'vis_km': 10.0, 'vis_miles': 6.0, 'gust_mph': 11.9, 'gust_kph': 19.1, 'uv': 5.0}, {'time_epoch': 1710698400, 'time': '2024-03-17 14:00', 'temp_c': 19.2, 'temp_f': 66.6, 'is_day': 1, 'condition': {'text': 'Partly cloudy', 'icon': '//cdn.weatherapi.com/weather/64x64/day/116.png', 'code': 1003}, 'wind_mph': 9.8, 'wind_kph': 15.8, 'wind_degree': 269, 'wind_dir': 'W', 'pressure_mb': 1010.0, 'pressure_in': 29.82, 'precip_mm': 0.0, 'precip_in': 0.0, 'snow_cm': 0.0, 'humidity': 49, 'cloud': 27, 'feelslike_c': 19.2, 'feelslike_f': 66.6, 'windchill_c': 19.2, 'windchill_f': 66.6, 'heatindex_c': 19.2, 'heatindex_f': 66.6, 'dewpoint_c': 9.0, 'dewpoint_f': 48.2, 'will_it_rain': 0, 'chance_of_rain': 0, 'will_it_snow': 0, 'chance_of_snow': 0, 'vis_km': 10.0, 'vis_miles': 6.0, 'gust_mph': 11.3, 'gust_kph': 18.2, 'uv': 5.0}, {'time_epoch': 1710702000, 'time': '2024-03-17 15:00', 'temp_c': 19.4, 'temp_f': 66.9, 'is_day': 1, 'condition': {'text': 'Partly cloudy', 'icon': '//cdn.weatherapi.com/weather/64x64/day/116.png', 'code': 1003}, 'wind_mph': 11.2, 'wind_kph': 18.0, 'wind_degree': 285, 'wind_dir': 'WNW', 'pressure_mb': 1009.0, 'pressure_in': 29.8, 'precip_mm': 0.0, 'precip_in': 0.0, 'snow_cm': 0.0, 'humidity': 50, 'cloud': 31, 'feelslike_c': 19.4, 'feelslike_f': 66.9, 'windchill_c': 19.4, 'windchill_f': 66.9, 'heatindex_c': 19.4, 'heatindex_f': 66.9, 'dewpoint_c': 9.3, 'dewpoint_f': 48.7, 'will_it_rain': 0, 'chance_of_rain': 0, 'will_it_snow': 0, 'chance_of_snow': 0, 'vis_km': 10.0, 'vis_miles': 6.0, 'gust_mph': 12.9, 'gust_kph': 20.7, 'uv': 5.0}, {'time_epoch': 1710705600, 'time': '2024-03-17 16:00', 'temp_c': 19.1, 'temp_f': 66.4, 'is_day': 1, 'condition': {'text': 'Cloudy', 'icon': '//cdn.weatherapi.com/weather/64x64/day/119.png', 'code': 1006}, 'wind_mph': 10.3, 'wind_kph': 16.6, 'wind_degree': 285, 'wind_dir': 'WNW', 'pressure_mb': 1008.0, 'pressure_in': 29.77, 'precip_mm': 0.0, 'precip_in': 0.0, 'snow_cm': 0.0, 'humidity': 52, 'cloud': 77, 'feelslike_c': 19.1, 'feelslike_f': 66.4, 'windchill_c': 19.1, 'windchill_f': 66.4, 'heatindex_c': 19.1, 'heatindex_f': 66.4, 'dewpoint_c': 9.4, 'dewpoint_f': 48.8, 'will_it_rain': 0, 'chance_of_rain': 0, 'will_it_snow': 0, 'chance_of_snow': 0, 'vis_km': 10.0, 'vis_miles': 6.0, 'gust_mph': 12.2, 'gust_kph': 19.6, 'uv': 4.0}, {'time_epoch': 1710709200, 'time': '2024-03-17 17:00', 'temp_c': 18.0, 'temp_f': 64.4, 'is_day': 1, 'condition': {'text': 'Partly cloudy', 'icon': '//cdn.weatherapi.com/weather/64x64/day/116.png', 'code': 1003}, 'wind_mph': 10.5, 'wind_kph': 16.9, 'wind_degree': 280, 'wind_dir': 'W', 'pressure_mb': 1009.0, 'pressure_in': 29.79, 'precip_mm': 0.0, 'precip_in': 0.0, 'snow_cm': 0.0, 'humidity': 56, 'cloud': 30, 'feelslike_c': 18.0, 'feelslike_f': 64.4, 'windchill_c': 18.0, 'windchill_f': 64.4, 'heatindex_c': 18.0, 'heatindex_f': 64.4, 'dewpoint_c': 9.8, 'dewpoint_f': 49.7, 'will_it_rain': 0, 'chance_of_rain': 0, 'will_it_snow': 0, 'chance_of_snow': 0, 'vis_km': 10.0, 'vis_miles': 6.0, 'gust_mph': 13.2, 'gust_kph': 21.2, 'uv': 5.0}, {'time_epoch': 1710712800, 'time': '2024-03-17 18:00', 'temp_c': 16.9, 'temp_f': 62.5, 'is_day': 1, 'condition': {'text': 'Partly cloudy', 'icon': '//cdn.weatherapi.com/weather/64x64/day/116.png', 'code': 1003}, 'wind_mph': 8.7, 'wind_kph': 14.0, 'wind_degree': 271, 'wind_dir': 'W', 'pressure_mb': 1009.0, 'pressure_in': 29.8, 'precip_mm': 0.0, 'precip_in': 0.0, 'snow_cm': 0.0, 'humidity': 62, 'cloud': 49, 'feelslike_c': 16.9, 'feelslike_f': 62.5, 'windchill_c': 16.9, 'windchill_f': 62.5, 'heatindex_c': 16.9, 'heatindex_f': 62.5, 'dewpoint_c': 9.6, 'dewpoint_f': 49.3, 'will_it_rain': 0, 'chance_of_rain': 0, 'will_it_snow': 0, 'chance_of_snow': 0, 'vis_km': 10.0, 'vis_miles': 6.0, 'gust_mph': 13.3, 'gust_kph': 21.4, 'uv': 5.0}, {'time_epoch': 1710716400, 'time': '2024-03-17 19:00', 'temp_c': 16.1, 'temp_f': 60.9, 'is_day': 1, 'condition': {'text': 'Partly cloudy', 'icon': '//cdn.weatherapi.com/weather/64x64/day/116.png', 'code': 1003}, 'wind_mph': 8.3, 'wind_kph': 13.3, 'wind_degree': 268, 'wind_dir': 'W', 'pressure_mb': 1009.0, 'pressure_in': 29.81, 'precip_mm': 0.0, 'precip_in': 0.0, 'snow_cm': 0.0, 'humidity': 64, 'cloud': 58, 'feelslike_c': 16.1, 'feelslike_f': 60.9, 'windchill_c': 16.1, 'windchill_f': 60.9, 'heatindex_c': 16.1, 'heatindex_f': 60.9, 'dewpoint_c': 9.2, 'dewpoint_f': 48.5, 'will_it_rain': 0, 'chance_of_rain': 0, 'will_it_snow': 0, 'chance_of_snow': 0, 'vis_km': 10.0, 'vis_miles': 6.0, 'gust_mph': 14.0, 'gust_kph': 22.5, 'uv': 5.0}, {'time_epoch': 1710720000, 'time': '2024-03-17 20:00', 'temp_c': 15.2, 'temp_f': 59.4, 'is_day': 0, 'condition': {'text': 'Partly cloudy', 'icon': '//cdn.weatherapi.com/weather/64x64/night/116.png', 'code': 1003}, 'wind_mph': 7.4, 'wind_kph': 11.9, 'wind_degree': 273, 'wind_dir': 'W', 'pressure_mb': 1009.0, 'pressure_in': 29.81, 'precip_mm': 0.0, 'precip_in': 0.0, 'snow_cm': 0.0, 'humidity': 65, 'cloud': 47, 'feelslike_c': 14.9, 'feelslike_f': 58.8, 'windchill_c': 14.9, 'windchill_f': 58.8, 'heatindex_c': 15.2, 'heatindex_f': 59.4, 'dewpoint_c': 8.7, 'dewpoint_f': 47.7, 'will_it_rain': 0, 'chance_of_rain': 0, 'will_it_snow': 0, 'chance_of_snow': 0, 'vis_km': 10.0, 'vis_miles': 6.0, 'gust_mph': 12.6, 'gust_kph': 20.2, 'uv': 1.0}, {'time_epoch': 1710723600, 'time': '2024-03-17 21:00', 'temp_c': 14.3, 'temp_f': 57.8, 'is_day': 0, 'condition': {'text': 'Clear', 'icon': '//cdn.weatherapi.com/weather/64x64/night/113.png', 'code': 1000}, 'wind_mph': 6.5, 'wind_kph': 10.4, 'wind_degree': 284, 'wind_dir': 'WNW', 'pressure_mb': 1010.0, 'pressure_in': 29.82, 'precip_mm': 0.0, 'precip_in': 0.0, 'snow_cm': 0.0, 'humidity': 72, 'cloud': 23, 'feelslike_c': 13.9, 'feelslike_f': 57.0, 'windchill_c': 13.9, 'windchill_f': 57.0, 'heatindex_c': 14.3, 'heatindex_f': 57.8, 'dewpoint_c': 9.4, 'dewpoint_f': 48.9, 'will_it_rain': 0, 'chance_of_rain': 0, 'will_it_snow': 0, 'chance_of_snow': 0, 'vis_km': 10.0, 'vis_miles': 6.0, 'gust_mph': 11.7, 'gust_kph': 18.8, 'uv': 1.0}, {'time_epoch': 1710727200, 'time': '2024-03-17 22:00', 'temp_c': 13.6, 'temp_f': 56.4, 'is_day': 0, 'condition': {'text': 'Clear', 'icon': '//cdn.weatherapi.com/weather/64x64/night/113.png', 'code': 1000}, 'wind_mph': 5.8, 'wind_kph': 9.4, 'wind_degree': 278, 'wind_dir': 'W', 'pressure_mb': 1010.0, 'pressure_in': 29.83, 'precip_mm': 0.0, 'precip_in': 0.0, 'snow_cm': 0.0, 'humidity': 78, 'cloud': 25, 'feelslike_c': 12.9, 'feelslike_f': 55.1, 'windchill_c': 12.9, 'windchill_f': 55.1, 'heatindex_c': 13.6, 'heatindex_f': 56.4, 'dewpoint_c': 9.8, 'dewpoint_f': 49.6, 'will_it_rain': 0, 'chance_of_rain': 0, 'will_it_snow': 0, 'chance_of_snow': 0, 'vis_km': 10.0, 'vis_miles': 6.0, 'gust_mph': 11.1, 'gust_kph': 17.8, 'uv': 1.0}, {'time_epoch': 1710730800, 'time': '2024-03-17 23:00', 'temp_c': 12.9, 'temp_f': 55.3, 'is_day': 0, 'condition': {'text': 'Clear', 'icon': '//cdn.weatherapi.com/weather/64x64/night/113.png', 'code': 1000}, 'wind_mph': 6.7, 'wind_kph': 10.8, 'wind_degree': 283, 'wind_dir': 'WNW', 'pressure_mb': 1010.0, 'pressure_in': 29.84, 'precip_mm': 0.0, 'precip_in': 0.0, 'snow_cm': 0.0, 'humidity': 82, 'cloud': 21, 'feelslike_c': 12.0, 'feelslike_f': 53.6, 'windchill_c': 12.0, 'windchill_f': 53.6, 'heatindex_c': 12.9, 'heatindex_f': 55.3, 'dewpoint_c': 9.8, 'dewpoint_f': 49.7, 'will_it_rain': 0, 'chance_of_rain': 0, 'will_it_snow': 0, 'chance_of_snow': 0, 'vis_km': 10.0, 'vis_miles': 6.0, 'gust_mph': 12.7, 'gust_kph': 20.5, 'uv': 1.0}]}]}}\n",
      "[48.92, 58.459999999999994]\n"
     ]
    }
   ],
   "source": [
    "dates = [(datetime.now() - timedelta(days=i)).strftime('%Y-%m-%d') for i in range(1, 3)]\n",
    "city = \"Athens, GA\"\n",
    "# Collecting data\n",
    "temperatures = []\n",
    "for date in dates:\n",
    "    temp = fetch_weather_data(city, date, api_key)\n",
    "    if temp is not None:  # Correctly checking if temperature data was returned\n",
    "        temperatures.append(temp)\n",
    "    else:\n",
    "        print(f\"Temperature data not available for {date}.\")\n",
    "\n",
    "temperatures_fahrenheit = [(temp * 9/5) + 32 for temp in temperatures]\n",
    "print(temperatures_fahrenheit)"
   ]
  },
  {
   "cell_type": "code",
   "execution_count": null,
   "id": "9c8a5e41",
   "metadata": {},
   "outputs": [],
   "source": [
    "def extract_weather_data(api_response):\n",
    "    location_data = api_response['location']\n",
    "    forecast_data = api_response['forecast']['forecastday'][0]['day']\n",
    "    hourly_data = api_response['forecast']['forecastday'][0]['hour']\n",
    "\n",
    "    location_name = location_data['name']\n",
    "    region = location_data['region']\n",
    "    country = location_data['country']\n",
    "\n",
    "    temperature = forecast_data['avgtemp_c']\n",
    "    atmospheric_pressure = hourly_data[0]['pressure_mb']\n",
    "    cloud_formation = forecast_data['cloud']\n",
    "    wind_speed = hourly_data[0]['wind_kph']\n",
    "    humidity = forecast_data['avghumidity']\n",
    "\n",
    "    # Check if there is rain data available for the day\n",
    "    if forecast_data['daily_will_it_rain'] == 1:\n",
    "        rain_chance = forecast_data['daily_chance_of_rain']\n",
    "        rain_amount = forecast_data['totalprecip_mm']\n",
    "    else:\n",
    "        rain_chance = 0\n",
    "        rain_amount = 0.0\n",
    "\n",
    "    return {\n",
    "        'location_name': location_name,\n",
    "        'region': region,\n",
    "        'country': country,\n",
    "        'temperature_C': temperature,\n",
    "        'atmospheric_pressure_mb': atmospheric_pressure,\n",
    "        'cloud_formation_percent': cloud_formation,\n",
    "        'wind_speed_kph': wind_speed,\n",
    "        'humidity_percent': humidity,\n",
    "        'rain_chance_percent': rain_chance,\n",
    "        'rain_amount_mm': rain_amount\n",
    "    }\n",
    "\n",
    "# Example usage:\n",
    "api_response = {...}  # Your API response here\n",
    "weather_data = extract_weather_data(api_response)\n",
    "print(weather_data)\n"
   ]
  },
  {
   "cell_type": "code",
   "execution_count": null,
   "id": "08a2a619",
   "metadata": {},
   "outputs": [],
   "source": []
  }
 ],
 "metadata": {
  "kernelspec": {
   "display_name": "Python 3 (ipykernel)",
   "language": "python",
   "name": "python3"
  },
  "language_info": {
   "codemirror_mode": {
    "name": "ipython",
    "version": 3
   },
   "file_extension": ".py",
   "mimetype": "text/x-python",
   "name": "python",
   "nbconvert_exporter": "python",
   "pygments_lexer": "ipython3",
   "version": "3.9.12"
  }
 },
 "nbformat": 4,
 "nbformat_minor": 5
}
